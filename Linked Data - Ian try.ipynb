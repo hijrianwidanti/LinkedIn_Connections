{
 "cells": [
  {
   "cell_type": "markdown",
   "id": "708225fa",
   "metadata": {},
   "source": [
    "# Installing Dependencies\n",
    "Before loading the data, we need to install some dependencies that don’t come by default on Anaconda."
   ]
  },
  {
   "cell_type": "code",
   "execution_count": null,
   "id": "08eedec3",
   "metadata": {},
   "outputs": [],
   "source": [
    "pip install pyjanitor pyvis --quiet"
   ]
  },
  {
   "cell_type": "code",
   "execution_count": 1,
   "id": "e1f4ed18",
   "metadata": {},
   "outputs": [],
   "source": [
    "import pandas as pd\n",
    "import janitor\n",
    "import datetime\n",
    "\n",
    "from IPython.core.display import display, HTML\n",
    "from pyvis import network as net\n",
    "import networkx as nx"
   ]
  },
  {
   "cell_type": "markdown",
   "id": "104ebe74",
   "metadata": {},
   "source": [
    "# Load the Data\n",
    "\n",
    "Load the data and merge it."
   ]
  },
  {
   "cell_type": "code",
   "execution_count": 2,
   "id": "ba511705",
   "metadata": {},
   "outputs": [],
   "source": [
    "# Load all the data\n",
    "df_1 = pd.read_csv('Connections_Camillo.csv')\n",
    "df_2 = pd.read_csv('Connections_David.csv')\n",
    "df_3 = pd.read_csv('Connections_Lida.csv')\n",
    "df_4 = pd.read_csv('Connections_ian.csv')\n",
    "df_5 = pd.read_csv('Connections_Sabreena.csv')"
   ]
  },
  {
   "cell_type": "code",
   "execution_count": 3,
   "id": "41023d98",
   "metadata": {},
   "outputs": [],
   "source": [
    "# Merge the data\n",
    "df_ori = pd.concat([df_1, df_2, df_3, df_4, df_5])"
   ]
  },
  {
   "cell_type": "code",
   "execution_count": 5,
   "id": "a78ae3de",
   "metadata": {},
   "outputs": [
    {
     "name": "stdout",
     "output_type": "stream",
     "text": [
      "<class 'pandas.core.frame.DataFrame'>\n",
      "Int64Index: 3123 entries, 0 to 173\n",
      "Data columns (total 4 columns):\n",
      " #   Column        Non-Null Count  Dtype \n",
      "---  ------        --------------  ----- \n",
      " 0   Company       3112 non-null   object\n",
      " 1   Position      3113 non-null   object\n",
      " 2   Connected On  3123 non-null   object\n",
      " 3   User          3123 non-null   object\n",
      "dtypes: object(4)\n",
      "memory usage: 122.0+ KB\n"
     ]
    }
   ],
   "source": [
    "df_ori.info()"
   ]
  },
  {
   "cell_type": "code",
   "execution_count": 9,
   "id": "dea5e1ee",
   "metadata": {},
   "outputs": [
    {
     "data": {
      "text/html": [
       "<div>\n",
       "<style scoped>\n",
       "    .dataframe tbody tr th:only-of-type {\n",
       "        vertical-align: middle;\n",
       "    }\n",
       "\n",
       "    .dataframe tbody tr th {\n",
       "        vertical-align: top;\n",
       "    }\n",
       "\n",
       "    .dataframe thead th {\n",
       "        text-align: right;\n",
       "    }\n",
       "</style>\n",
       "<table border=\"1\" class=\"dataframe\">\n",
       "  <thead>\n",
       "    <tr style=\"text-align: right;\">\n",
       "      <th></th>\n",
       "      <th>Company</th>\n",
       "      <th>Position</th>\n",
       "      <th>Connected On</th>\n",
       "      <th>User</th>\n",
       "    </tr>\n",
       "  </thead>\n",
       "  <tbody>\n",
       "    <tr>\n",
       "      <th>0</th>\n",
       "      <td>Home365 Property Management</td>\n",
       "      <td>Principal Product Manager</td>\n",
       "      <td>2/14/2023</td>\n",
       "      <td>Camilo</td>\n",
       "    </tr>\n",
       "    <tr>\n",
       "      <th>1</th>\n",
       "      <td>Canter</td>\n",
       "      <td>Founder &amp; Principal</td>\n",
       "      <td>2/7/2023</td>\n",
       "      <td>Camilo</td>\n",
       "    </tr>\n",
       "    <tr>\n",
       "      <th>2</th>\n",
       "      <td>American Express</td>\n",
       "      <td>Finance Manager</td>\n",
       "      <td>2/7/2023</td>\n",
       "      <td>Camilo</td>\n",
       "    </tr>\n",
       "    <tr>\n",
       "      <th>3</th>\n",
       "      <td>Zutto Technologies</td>\n",
       "      <td>Director de nuevos proyectos</td>\n",
       "      <td>2/6/2023</td>\n",
       "      <td>Camilo</td>\n",
       "    </tr>\n",
       "    <tr>\n",
       "      <th>4</th>\n",
       "      <td>Amateur Fund</td>\n",
       "      <td>Investor</td>\n",
       "      <td>2/5/2023</td>\n",
       "      <td>Camilo</td>\n",
       "    </tr>\n",
       "  </tbody>\n",
       "</table>\n",
       "</div>"
      ],
      "text/plain": [
       "                       Company                      Position Connected On  \\\n",
       "0  Home365 Property Management     Principal Product Manager    2/14/2023   \n",
       "1                       Canter           Founder & Principal     2/7/2023   \n",
       "2             American Express               Finance Manager     2/7/2023   \n",
       "3           Zutto Technologies  Director de nuevos proyectos     2/6/2023   \n",
       "4                 Amateur Fund                      Investor     2/5/2023   \n",
       "\n",
       "     User  \n",
       "0  Camilo  \n",
       "1  Camilo  \n",
       "2  Camilo  \n",
       "3  Camilo  \n",
       "4  Camilo  "
      ]
     },
     "execution_count": 9,
     "metadata": {},
     "output_type": "execute_result"
    }
   ],
   "source": [
    "df_ori.head()"
   ]
  },
  {
   "cell_type": "markdown",
   "id": "14198418",
   "metadata": {},
   "source": [
    "## Data Cleaning"
   ]
  },
  {
   "cell_type": "code",
   "execution_count": 8,
   "id": "01e93a54",
   "metadata": {},
   "outputs": [
    {
     "data": {
      "text/html": [
       "<div>\n",
       "<style scoped>\n",
       "    .dataframe tbody tr th:only-of-type {\n",
       "        vertical-align: middle;\n",
       "    }\n",
       "\n",
       "    .dataframe tbody tr th {\n",
       "        vertical-align: top;\n",
       "    }\n",
       "\n",
       "    .dataframe thead th {\n",
       "        text-align: right;\n",
       "    }\n",
       "</style>\n",
       "<table border=\"1\" class=\"dataframe\">\n",
       "  <thead>\n",
       "    <tr style=\"text-align: right;\">\n",
       "      <th></th>\n",
       "      <th>company</th>\n",
       "      <th>position</th>\n",
       "      <th>connected_on</th>\n",
       "      <th>user</th>\n",
       "    </tr>\n",
       "  </thead>\n",
       "  <tbody>\n",
       "    <tr>\n",
       "      <th>0</th>\n",
       "      <td>Home365 Property Management</td>\n",
       "      <td>Principal Product Manager</td>\n",
       "      <td>2023-02-14</td>\n",
       "      <td>Camilo</td>\n",
       "    </tr>\n",
       "    <tr>\n",
       "      <th>1</th>\n",
       "      <td>Canter</td>\n",
       "      <td>Founder &amp; Principal</td>\n",
       "      <td>2023-02-07</td>\n",
       "      <td>Camilo</td>\n",
       "    </tr>\n",
       "    <tr>\n",
       "      <th>2</th>\n",
       "      <td>American Express</td>\n",
       "      <td>Finance Manager</td>\n",
       "      <td>2023-02-07</td>\n",
       "      <td>Camilo</td>\n",
       "    </tr>\n",
       "    <tr>\n",
       "      <th>3</th>\n",
       "      <td>Zutto Technologies</td>\n",
       "      <td>Director de nuevos proyectos</td>\n",
       "      <td>2023-02-06</td>\n",
       "      <td>Camilo</td>\n",
       "    </tr>\n",
       "    <tr>\n",
       "      <th>4</th>\n",
       "      <td>Amateur Fund</td>\n",
       "      <td>Investor</td>\n",
       "      <td>2023-02-05</td>\n",
       "      <td>Camilo</td>\n",
       "    </tr>\n",
       "  </tbody>\n",
       "</table>\n",
       "</div>"
      ],
      "text/plain": [
       "                       company                      position connected_on  \\\n",
       "0  Home365 Property Management     Principal Product Manager   2023-02-14   \n",
       "1                       Canter           Founder & Principal   2023-02-07   \n",
       "2             American Express               Finance Manager   2023-02-07   \n",
       "3           Zutto Technologies  Director de nuevos proyectos   2023-02-06   \n",
       "4                 Amateur Fund                      Investor   2023-02-05   \n",
       "\n",
       "     user  \n",
       "0  Camilo  \n",
       "1  Camilo  \n",
       "2  Camilo  \n",
       "3  Camilo  \n",
       "4  Camilo  "
      ]
     },
     "execution_count": 8,
     "metadata": {},
     "output_type": "execute_result"
    }
   ],
   "source": [
    "df = (\n",
    "    df_ori\n",
    "    .clean_names() # remove spacing and capitalization\n",
    "    #.drop(columns=['first_name', 'last_name', 'email_address']) # drop for privacy\n",
    "    .dropna(subset=['company', 'position']) # drop missing values in company and position\n",
    "    .to_datetime('connected_on', infer_datetime_format=True)\n",
    "  )\n",
    "df.head()"
   ]
  },
  {
   "cell_type": "markdown",
   "id": "2e7868cb",
   "metadata": {},
   "source": [
    "## Simple EDA"
   ]
  },
  {
   "cell_type": "code",
   "execution_count": 10,
   "id": "e62a2d4a",
   "metadata": {},
   "outputs": [],
   "source": [
    "# Replace the companies with similar names\n",
    "\n",
    "df['company'] = df['company'].replace('Superintendencia de Banca, Seguros y AFP', 'Superintendencia de Banca, Seguros y AFP del Perú')\n",
    "df['company'] = df['company'].replace('Superintendencia de Banca, Seguros y Administradoras de Fondos de Pensiones del Perú','Superintendencia de Banca, Seguros y AFP del Perú')\n",
    "df['company'] = df['company'].replace('SBS','Superintendencia de Banca, Seguros y AFP del Perú')\n",
    "df['company'] = df['company'].replace('Babson F.W. Olin Graduate School of Business','Babson College')\n",
    "df['company'] = df['company'].replace('Pontificia Universidad Católica del Perú','Pontificia Universidad Catolica del Peru')\n",
    "df['company'] = df['company'].replace([\"PT. Pegadaian (Persero)\", 'PT. Pegadaian'], 'Pegadaian')"
   ]
  },
  {
   "cell_type": "code",
   "execution_count": 16,
   "id": "22cc5f5e",
   "metadata": {},
   "outputs": [
    {
     "data": {
      "image/png": "[encoded data removed]",
      "text/plain": [
       "<Figure size 432x288 with 1 Axes>"
      ]
     },
     "metadata": {
      "needs_background": "light"
     },
     "output_type": "display_data"
    }
   ],
   "source": [
    "df['company'].value_counts().head(10).plot(kind=\"barh\").invert_yaxis()"
   ]
  },
  {
   "cell_type": "code",
   "execution_count": 44,
   "id": "c3a3da05",
   "metadata": {
    "scrolled": true
   },
   "outputs": [
    {
     "data": {
      "text/plain": [
       "Text(0, 0.5, 'Company')"
      ]
     },
     "execution_count": 44,
     "metadata": {},
     "output_type": "execute_result"
    },
    {
     "data": {
      "image/png": "[encoded data removed]",
      "text/plain": [
       "<Figure size 432x288 with 1 Axes>"
      ]
     },
     "metadata": {},
     "output_type": "display_data"
    }
   ],
   "source": [
    "import seaborn as sns\n",
    "\n",
    "sns.set_style(\"whitegrid\")\n",
    "sns.set_palette(\"husl\")\n",
    "\n",
    "top_companies = df['company'].value_counts().head(10)\n",
    "\n",
    "sns.barplot(x=top_companies.values, y=top_companies.index, orient='h')\n",
    "\n",
    "plt.xlabel('Company Count')\n",
    "plt.ylabel('Company')"
   ]
  },
  {
   "cell_type": "code",
   "execution_count": 20,
   "id": "389af9a6",
   "metadata": {},
   "outputs": [
    {
     "data": {
      "image/png": "[encoded data removed]",
      "text/plain": [
       "<Figure size 432x288 with 1 Axes>"
      ]
     },
     "metadata": {},
     "output_type": "display_data"
    }
   ],
   "source": [
    "import matplotlib.pyplot as plt\n",
    "\n",
    "top_companies = df['company'].value_counts().head(10)\n",
    "\n",
    "plt.pie(top_companies, labels=top_companies.index, autopct='%1.1f%%')\n",
    "plt.axis('equal')\n",
    "plt.title('Proportion of Top 10 Companies')\n",
    "plt.show()\n"
   ]
  },
  {
   "cell_type": "code",
   "execution_count": 43,
   "id": "10f36bae",
   "metadata": {},
   "outputs": [
    {
     "data": {
      "text/plain": [
       "Text(0, 0.5, 'Job Position')"
      ]
     },
     "execution_count": 43,
     "metadata": {},
     "output_type": "execute_result"
    },
    {
     "data": {
      "image/png": "[encoded data removed]",
      "text/plain": [
       "<Figure size 432x288 with 1 Axes>"
      ]
     },
     "metadata": {},
     "output_type": "display_data"
    }
   ],
   "source": [
    "import seaborn as sns\n",
    "\n",
    "sns.set_style(\"whitegrid\")\n",
    "sns.set_palette(\"husl\")\n",
    "\n",
    "top_position = df['position'].value_counts().head(10)\n",
    "\n",
    "sns.barplot(x=top_position.values, y=top_position.index, orient='h')\n",
    "\n",
    "plt.xlabel('Job Count')\n",
    "plt.ylabel('Job Position')\n"
   ]
  },
  {
   "cell_type": "code",
   "execution_count": 24,
   "id": "20d74c87",
   "metadata": {},
   "outputs": [],
   "source": [
    "df['position'] = df['position'].replace('Gerente general','CEO')\n",
    "df['position'] = df['position'].replace('Gerente General','CEO')\n",
    "df['position'] = df['position'].replace('Chief Executive Officer','CEO')\n",
    "df['position'] = df['position'].replace('Co-Founder','Founder')"
   ]
  },
  {
   "cell_type": "code",
   "execution_count": null,
   "id": "14499368",
   "metadata": {},
   "outputs": [],
   "source": [
    "# import seaborn as sns\n",
    "import matplotlib.pyplot as plt\n",
    "\n",
    "sns.set_palette(\"winter_r\")\n",
    "\n",
    "df['connected_on'].hist(xrot=35, bins=15)\n",
    "\n",
    "plt.title('Distribution of Connected On Dates')\n",
    "plt.xlabel('Connected On Date')\n",
    "plt.ylabel('Count')\n",
    "\n",
    "plt.show()\n",
    "\n",
    "#ValueError: 'set3' is not a valid value for name; supported values are 'Accent', 'Accent_r', \n",
    "#'Blues', 'Blues_r', 'BrBG', 'BrBG_r', 'BuGn', 'BuGn_r', 'BuPu', 'BuPu_r', 'CMRmap', 'CMRmap_r', 'Dark2', 'Dark2_r', \n",
    "#'GnBu', 'GnBu_r', 'Greens', 'Greens_r', 'Greys', 'Greys_r', 'OrRd', 'OrRd_r', 'Oranges', 'Oranges_r', 'PRGn', 'PRGn_r', \n",
    "#'Paired', 'Paired_r', 'Pastel1', 'Pastel1_r', 'Pastel2', 'Pastel2_r', 'PiYG', 'PiYG_r', 'PuBu', 'PuBuGn', 'PuBuGn_r', \n",
    "#'PuBu_r', 'PuOr', 'PuOr_r', 'PuRd', 'PuRd_r', 'Purples', 'Purples_r', 'RdBu', 'RdBu_r', 'RdGy', 'RdGy_r', 'RdPu', 'RdPu_r', \n",
    "#'RdYlBu', 'RdYlBu_r', 'RdYlGn', 'RdYlGn_r', 'Reds', 'Reds_r', 'Set1', 'Set1_r', 'Set2', 'Set2_r', 'Set3', 'Set3_r', \n",
    "#'Spectral', 'Spectral_r', 'Wistia', 'Wistia_r', 'YlGn', 'YlGnBu', 'YlGnBu_r', 'YlGn_r', 'YlOrBr', 'YlOrBr_r', 'YlOrRd', \n",
    "#'YlOrRd_r', 'afmhot', 'afmhot_r', 'autumn', 'autumn_r', 'binary', 'binary_r', 'bone', 'bone_r', 'brg', 'brg_r', 'bwr', \n",
    "#'bwr_r', 'cividis', 'cividis_r', 'cool', 'cool_r', 'coolwarm', 'coolwarm_r', 'copper', 'copper_r', 'crest', 'crest_r', '\n",
    "#\n",
    "#cubehelix', 'cubehelix_r', 'flag', 'flag_r', 'flare', 'flare_r', 'gist_earth', 'gist_earth_r', 'gist_gray', 'gist_gray_r', \n",
    "#'gist_heat', 'gist_heat_r', 'gist_ncar', 'gist_ncar_r', 'gist_rainbow', 'gist_rainbow_r', 'gist_stern', 'gist_stern_r', \n",
    "#'gist_yarg', 'gist_yarg_r', 'gnuplot', 'gnuplot2', 'gnuplot2_r', 'gnuplot_r', 'gray', 'gray_r', 'hot', 'hot_r', 'hsv', \n",
    "#'hsv_r', 'icefire', 'icefire_r', 'inferno', 'inferno_r', 'jet', 'jet_r', 'magma', 'magma_r', 'mako', 'mako_r', \n",
    "#'nipy_spectral', 'nipy_spectral_r', 'ocean', 'ocean_r', 'pink', 'pink_r', 'plasma', 'plasma_r', 'prism', 'prism_r', \n",
    "#'rainbow', 'rainbow_r', 'rocket', 'rocket_r', 'seismic', 'seismic_r', 'spring', 'spring_r', 'summer', 'summer_r', 'tab10', \n",
    "#'tab10_r', 'tab20', 'tab20_r', 'tab20b', 'tab20b_r', 'tab20c', 'tab20c_r', 'terrain', 'terrain_r', 'turbo', 'turbo_r', \n",
    "#'twilight', 'twilight_r', 'twilight_shifted', 'twilight_shifted_r', 'viridis', 'viridis_r', 'vlag', 'vlag_r', 'winter', \n",
    "#'winter_r'\n"
   ]
  },
  {
   "cell_type": "code",
   "execution_count": 41,
   "id": "017110f2",
   "metadata": {},
   "outputs": [
    {
     "data": {
      "image/png": "[encoded data removed]",
      "text/plain": [
       "<Figure size 432x288 with 1 Axes>"
      ]
     },
     "metadata": {},
     "output_type": "display_data"
    }
   ],
   "source": [
    "import seaborn as sns\n",
    "import matplotlib.pyplot as plt\n",
    "\n",
    "sns.set_style(\"whitegrid\")\n",
    "sns.set_palette(\"husl\")\n",
    "\n",
    "# Extract the year from the 'connected_on' column and group by year\n",
    "connecton_year = df['connected_on'].dt.year.value_counts().head(10)\n",
    "\n",
    "sns.barplot(x=connecton_year.index, y=connecton_year.values, orient='v')\n",
    "\n",
    "plt.title('Distribution of Connected On Dates by Year')\n",
    "plt.xlabel('Year')\n",
    "plt.ylabel('Count')\n",
    "\n",
    "plt.show()\n"
   ]
  },
  {
   "cell_type": "markdown",
   "id": "fd3edfec",
   "metadata": {},
   "source": [
    "### Remove freelance and self-employed titles"
   ]
  },
  {
   "cell_type": "code",
   "execution_count": 46,
   "id": "40aca52c",
   "metadata": {},
   "outputs": [],
   "source": [
    "pattern = \"freelance|self-employed|Profesional independiente|Autónomo|Independiente\"\n",
    "df = df[~df['company'].str.contains(pattern, case=False)]"
   ]
  },
  {
   "cell_type": "code",
   "execution_count": 47,
   "id": "51d011eb",
   "metadata": {},
   "outputs": [
    {
     "name": "stdout",
     "output_type": "stream",
     "text": [
      "<class 'pandas.core.frame.DataFrame'>\n",
      "Int64Index: 3110 entries, 0 to 173\n",
      "Data columns (total 4 columns):\n",
      " #   Column        Non-Null Count  Dtype         \n",
      "---  ------        --------------  -----         \n",
      " 0   company       3110 non-null   object        \n",
      " 1   position      3110 non-null   object        \n",
      " 2   connected_on  3110 non-null   datetime64[ns]\n",
      " 3   user          3110 non-null   object        \n",
      "dtypes: datetime64[ns](1), object(3)\n",
      "memory usage: 121.5+ KB\n"
     ]
    },
    {
     "data": {
      "text/html": [
       "<div>\n",
       "<style scoped>\n",
       "    .dataframe tbody tr th:only-of-type {\n",
       "        vertical-align: middle;\n",
       "    }\n",
       "\n",
       "    .dataframe tbody tr th {\n",
       "        vertical-align: top;\n",
       "    }\n",
       "\n",
       "    .dataframe thead th {\n",
       "        text-align: right;\n",
       "    }\n",
       "</style>\n",
       "<table border=\"1\" class=\"dataframe\">\n",
       "  <thead>\n",
       "    <tr style=\"text-align: right;\">\n",
       "      <th></th>\n",
       "      <th>company</th>\n",
       "      <th>position</th>\n",
       "      <th>connected_on</th>\n",
       "      <th>user</th>\n",
       "    </tr>\n",
       "  </thead>\n",
       "  <tbody>\n",
       "    <tr>\n",
       "      <th>0</th>\n",
       "      <td>Home365 Property Management</td>\n",
       "      <td>Principal Product Manager</td>\n",
       "      <td>2023-02-14</td>\n",
       "      <td>Camilo</td>\n",
       "    </tr>\n",
       "    <tr>\n",
       "      <th>1</th>\n",
       "      <td>Canter</td>\n",
       "      <td>Founder &amp; Principal</td>\n",
       "      <td>2023-02-07</td>\n",
       "      <td>Camilo</td>\n",
       "    </tr>\n",
       "    <tr>\n",
       "      <th>2</th>\n",
       "      <td>American Express</td>\n",
       "      <td>Finance Manager</td>\n",
       "      <td>2023-02-07</td>\n",
       "      <td>Camilo</td>\n",
       "    </tr>\n",
       "    <tr>\n",
       "      <th>3</th>\n",
       "      <td>Zutto Technologies</td>\n",
       "      <td>Director de nuevos proyectos</td>\n",
       "      <td>2023-02-06</td>\n",
       "      <td>Camilo</td>\n",
       "    </tr>\n",
       "    <tr>\n",
       "      <th>4</th>\n",
       "      <td>Amateur Fund</td>\n",
       "      <td>Investor</td>\n",
       "      <td>2023-02-05</td>\n",
       "      <td>Camilo</td>\n",
       "    </tr>\n",
       "  </tbody>\n",
       "</table>\n",
       "</div>"
      ],
      "text/plain": [
       "                       company                      position connected_on  \\\n",
       "0  Home365 Property Management     Principal Product Manager   2023-02-14   \n",
       "1                       Canter           Founder & Principal   2023-02-07   \n",
       "2             American Express               Finance Manager   2023-02-07   \n",
       "3           Zutto Technologies  Director de nuevos proyectos   2023-02-06   \n",
       "4                 Amateur Fund                      Investor   2023-02-05   \n",
       "\n",
       "     user  \n",
       "0  Camilo  \n",
       "1  Camilo  \n",
       "2  Camilo  \n",
       "3  Camilo  \n",
       "4  Camilo  "
      ]
     },
     "execution_count": 47,
     "metadata": {},
     "output_type": "execute_result"
    }
   ],
   "source": [
    "df.info()\n",
    "df.head()"
   ]
  },
  {
   "cell_type": "code",
   "execution_count": 48,
   "id": "1fc8d45c",
   "metadata": {},
   "outputs": [
    {
     "name": "stdout",
     "output_type": "stream",
     "text": [
      "<class 'pandas.core.series.Series'>\n",
      "MultiIndex: 2117 entries, ('Camilo', ' 4TC For The Customer') to ('Sabreena', 'wecare.socio')\n",
      "Series name: count\n",
      "Non-Null Count  Dtype\n",
      "--------------  -----\n",
      "2117 non-null   int64\n",
      "dtypes: int64(1)\n",
      "memory usage: 37.9+ KB\n"
     ]
    }
   ],
   "source": [
    "# Groupby\n",
    "\n",
    "user_group =df.groupby(['user','company'])['company'].count()\n",
    "user_group = user_group.rename('count')\n",
    "user_group.head(30)\n",
    "user_group.info()\n",
    "df_users=user_group.to_frame()"
   ]
  },
  {
   "cell_type": "code",
   "execution_count": 50,
   "id": "a0645647",
   "metadata": {},
   "outputs": [
    {
     "data": {
      "text/html": [
       "<div>\n",
       "<style scoped>\n",
       "    .dataframe tbody tr th:only-of-type {\n",
       "        vertical-align: middle;\n",
       "    }\n",
       "\n",
       "    .dataframe tbody tr th {\n",
       "        vertical-align: top;\n",
       "    }\n",
       "\n",
       "    .dataframe thead th {\n",
       "        text-align: right;\n",
       "    }\n",
       "</style>\n",
       "<table border=\"1\" class=\"dataframe\">\n",
       "  <thead>\n",
       "    <tr style=\"text-align: right;\">\n",
       "      <th></th>\n",
       "      <th>user</th>\n",
       "      <th>company</th>\n",
       "      <th>count</th>\n",
       "    </tr>\n",
       "  </thead>\n",
       "  <tbody>\n",
       "    <tr>\n",
       "      <th>0</th>\n",
       "      <td>Camilo</td>\n",
       "      <td>4TC For The Customer</td>\n",
       "      <td>1</td>\n",
       "    </tr>\n",
       "    <tr>\n",
       "      <th>1</th>\n",
       "      <td>Camilo</td>\n",
       "      <td>IFB Inversiones</td>\n",
       "      <td>1</td>\n",
       "    </tr>\n",
       "    <tr>\n",
       "      <th>2</th>\n",
       "      <td>Camilo</td>\n",
       "      <td>.406 Ventures</td>\n",
       "      <td>1</td>\n",
       "    </tr>\n",
       "    <tr>\n",
       "      <th>3</th>\n",
       "      <td>Camilo</td>\n",
       "      <td>3L Servicios Financieros</td>\n",
       "      <td>1</td>\n",
       "    </tr>\n",
       "    <tr>\n",
       "      <th>4</th>\n",
       "      <td>Camilo</td>\n",
       "      <td>AB InBev Efes</td>\n",
       "      <td>1</td>\n",
       "    </tr>\n",
       "    <tr>\n",
       "      <th>...</th>\n",
       "      <td>...</td>\n",
       "      <td>...</td>\n",
       "      <td>...</td>\n",
       "    </tr>\n",
       "    <tr>\n",
       "      <th>2112</th>\n",
       "      <td>Sabreena</td>\n",
       "      <td>XIRCLS - Collaborative Marketing Network</td>\n",
       "      <td>1</td>\n",
       "    </tr>\n",
       "    <tr>\n",
       "      <th>2113</th>\n",
       "      <td>Sabreena</td>\n",
       "      <td>ZeroWheel, LLC</td>\n",
       "      <td>1</td>\n",
       "    </tr>\n",
       "    <tr>\n",
       "      <th>2114</th>\n",
       "      <td>Sabreena</td>\n",
       "      <td>auxi</td>\n",
       "      <td>1</td>\n",
       "    </tr>\n",
       "    <tr>\n",
       "      <th>2115</th>\n",
       "      <td>Sabreena</td>\n",
       "      <td>mobileLIVE Inc</td>\n",
       "      <td>1</td>\n",
       "    </tr>\n",
       "    <tr>\n",
       "      <th>2116</th>\n",
       "      <td>Sabreena</td>\n",
       "      <td>wecare.socio</td>\n",
       "      <td>2</td>\n",
       "    </tr>\n",
       "  </tbody>\n",
       "</table>\n",
       "<p>2117 rows × 3 columns</p>\n",
       "</div>"
      ],
      "text/plain": [
       "          user                                   company  count\n",
       "0       Camilo                      4TC For The Customer      1\n",
       "1       Camilo                          IFB Inversiones       1\n",
       "2       Camilo                             .406 Ventures      1\n",
       "3       Camilo                  3L Servicios Financieros      1\n",
       "4       Camilo                             AB InBev Efes      1\n",
       "...        ...                                       ...    ...\n",
       "2112  Sabreena  XIRCLS - Collaborative Marketing Network      1\n",
       "2113  Sabreena                            ZeroWheel, LLC      1\n",
       "2114  Sabreena                                      auxi      1\n",
       "2115  Sabreena                            mobileLIVE Inc      1\n",
       "2116  Sabreena                              wecare.socio      2\n",
       "\n",
       "[2117 rows x 3 columns]"
      ]
     },
     "execution_count": 50,
     "metadata": {},
     "output_type": "execute_result"
    }
   ],
   "source": [
    "df_users.reset_index()"
   ]
  },
  {
   "cell_type": "code",
   "execution_count": 52,
   "id": "c7862825",
   "metadata": {},
   "outputs": [
    {
     "name": "stdout",
     "output_type": "stream",
     "text": [
      "<class 'pandas.core.frame.DataFrame'>\n",
      "MultiIndex: 2117 entries, ('Camilo', ' 4TC For The Customer') to ('Sabreena', 'wecare.socio')\n",
      "Data columns (total 1 columns):\n",
      " #   Column  Non-Null Count  Dtype\n",
      "---  ------  --------------  -----\n",
      " 0   count   2117 non-null   int64\n",
      "dtypes: int64(1)\n",
      "memory usage: 37.9+ KB\n"
     ]
    }
   ],
   "source": [
    "#df_users.head(10)\n",
    "df_users.info()"
   ]
  },
  {
   "cell_type": "markdown",
   "id": "68104bb4",
   "metadata": {},
   "source": [
    "## Aggregate sum of connections for companies"
   ]
  },
  {
   "cell_type": "code",
   "execution_count": 53,
   "id": "fe2d464c",
   "metadata": {},
   "outputs": [
    {
     "data": {
      "text/html": [
       "<div>\n",
       "<style scoped>\n",
       "    .dataframe tbody tr th:only-of-type {\n",
       "        vertical-align: middle;\n",
       "    }\n",
       "\n",
       "    .dataframe tbody tr th {\n",
       "        vertical-align: top;\n",
       "    }\n",
       "\n",
       "    .dataframe thead th {\n",
       "        text-align: right;\n",
       "    }\n",
       "</style>\n",
       "<table border=\"1\" class=\"dataframe\">\n",
       "  <thead>\n",
       "    <tr style=\"text-align: right;\">\n",
       "      <th></th>\n",
       "      <th>company</th>\n",
       "      <th>count</th>\n",
       "    </tr>\n",
       "  </thead>\n",
       "  <tbody>\n",
       "    <tr>\n",
       "      <th>0</th>\n",
       "      <td>Superintendencia de Banca, Seguros y AFP del Perú</td>\n",
       "      <td>156</td>\n",
       "    </tr>\n",
       "    <tr>\n",
       "      <th>1</th>\n",
       "      <td>Babson College</td>\n",
       "      <td>134</td>\n",
       "    </tr>\n",
       "    <tr>\n",
       "      <th>2</th>\n",
       "      <td>Pegadaian</td>\n",
       "      <td>119</td>\n",
       "    </tr>\n",
       "    <tr>\n",
       "      <th>3</th>\n",
       "      <td>Banchile Inversiones</td>\n",
       "      <td>63</td>\n",
       "    </tr>\n",
       "    <tr>\n",
       "      <th>4</th>\n",
       "      <td>Pontificia Universidad Catolica del Peru</td>\n",
       "      <td>33</td>\n",
       "    </tr>\n",
       "    <tr>\n",
       "      <th>5</th>\n",
       "      <td>Banco de Crédito BCP</td>\n",
       "      <td>28</td>\n",
       "    </tr>\n",
       "    <tr>\n",
       "      <th>6</th>\n",
       "      <td>Scotiabank</td>\n",
       "      <td>25</td>\n",
       "    </tr>\n",
       "    <tr>\n",
       "      <th>7</th>\n",
       "      <td>Interbank</td>\n",
       "      <td>16</td>\n",
       "    </tr>\n",
       "    <tr>\n",
       "      <th>8</th>\n",
       "      <td>Credicorp Capital</td>\n",
       "      <td>15</td>\n",
       "    </tr>\n",
       "    <tr>\n",
       "      <th>9</th>\n",
       "      <td>Pacífico Seguros</td>\n",
       "      <td>11</td>\n",
       "    </tr>\n",
       "  </tbody>\n",
       "</table>\n",
       "</div>"
      ],
      "text/plain": [
       "                                             company  count\n",
       "0  Superintendencia de Banca, Seguros y AFP del Perú    156\n",
       "1                                     Babson College    134\n",
       "2                                          Pegadaian    119\n",
       "3                               Banchile Inversiones     63\n",
       "4           Pontificia Universidad Catolica del Peru     33\n",
       "5                               Banco de Crédito BCP     28\n",
       "6                                         Scotiabank     25\n",
       "7                                          Interbank     16\n",
       "8                                  Credicorp Capital     15\n",
       "9                                   Pacífico Seguros     11"
      ]
     },
     "execution_count": 53,
     "metadata": {},
     "output_type": "execute_result"
    }
   ],
   "source": [
    "df_company = df['company'].value_counts().reset_index()\n",
    "df_company.columns = ['company','count']\n",
    "df_company = df_company.sort_values(by=\"count\", ascending=False)\n",
    "df_company.head(10)\n"
   ]
  },
  {
   "cell_type": "markdown",
   "id": "aadd3a3d",
   "metadata": {},
   "source": [
    "## Aggregate sum of connections for positions"
   ]
  },
  {
   "cell_type": "code",
   "execution_count": 54,
   "id": "bbbe2513",
   "metadata": {},
   "outputs": [
    {
     "data": {
      "text/html": [
       "<div>\n",
       "<style scoped>\n",
       "    .dataframe tbody tr th:only-of-type {\n",
       "        vertical-align: middle;\n",
       "    }\n",
       "\n",
       "    .dataframe tbody tr th {\n",
       "        vertical-align: top;\n",
       "    }\n",
       "\n",
       "    .dataframe thead th {\n",
       "        text-align: right;\n",
       "    }\n",
       "</style>\n",
       "<table border=\"1\" class=\"dataframe\">\n",
       "  <thead>\n",
       "    <tr style=\"text-align: right;\">\n",
       "      <th></th>\n",
       "      <th>position</th>\n",
       "      <th>count</th>\n",
       "    </tr>\n",
       "  </thead>\n",
       "  <tbody>\n",
       "    <tr>\n",
       "      <th>0</th>\n",
       "      <td>CEO</td>\n",
       "      <td>76</td>\n",
       "    </tr>\n",
       "    <tr>\n",
       "      <th>1</th>\n",
       "      <td>MBA Candidate</td>\n",
       "      <td>64</td>\n",
       "    </tr>\n",
       "    <tr>\n",
       "      <th>2</th>\n",
       "      <td>Founder</td>\n",
       "      <td>45</td>\n",
       "    </tr>\n",
       "    <tr>\n",
       "      <th>3</th>\n",
       "      <td>Board Member</td>\n",
       "      <td>25</td>\n",
       "    </tr>\n",
       "    <tr>\n",
       "      <th>4</th>\n",
       "      <td>Director</td>\n",
       "      <td>20</td>\n",
       "    </tr>\n",
       "    <tr>\n",
       "      <th>5</th>\n",
       "      <td>Partner</td>\n",
       "      <td>15</td>\n",
       "    </tr>\n",
       "    <tr>\n",
       "      <th>6</th>\n",
       "      <td>Product Manager</td>\n",
       "      <td>14</td>\n",
       "    </tr>\n",
       "    <tr>\n",
       "      <th>7</th>\n",
       "      <td>Associate</td>\n",
       "      <td>13</td>\n",
       "    </tr>\n",
       "    <tr>\n",
       "      <th>8</th>\n",
       "      <td>Managing Director</td>\n",
       "      <td>13</td>\n",
       "    </tr>\n",
       "    <tr>\n",
       "      <th>9</th>\n",
       "      <td>Managing Partner</td>\n",
       "      <td>12</td>\n",
       "    </tr>\n",
       "  </tbody>\n",
       "</table>\n",
       "</div>"
      ],
      "text/plain": [
       "            position  count\n",
       "0                CEO     76\n",
       "1      MBA Candidate     64\n",
       "2            Founder     45\n",
       "3       Board Member     25\n",
       "4           Director     20\n",
       "5            Partner     15\n",
       "6    Product Manager     14\n",
       "7          Associate     13\n",
       "8  Managing Director     13\n",
       "9   Managing Partner     12"
      ]
     },
     "execution_count": 54,
     "metadata": {},
     "output_type": "execute_result"
    }
   ],
   "source": [
    "df_position = df['position'].value_counts().reset_index()\n",
    "df_position.columns = ['position', 'count']\n",
    "df_position = df_position.sort_values(by=\"count\", ascending=False)\n",
    "df_position.head(10)"
   ]
  },
  {
   "cell_type": "code",
   "execution_count": 64,
   "id": "bd406214",
   "metadata": {},
   "outputs": [
    {
     "data": {
      "text/html": [
       "<div>\n",
       "<style scoped>\n",
       "    .dataframe tbody tr th:only-of-type {\n",
       "        vertical-align: middle;\n",
       "    }\n",
       "\n",
       "    .dataframe tbody tr th {\n",
       "        vertical-align: top;\n",
       "    }\n",
       "\n",
       "    .dataframe thead th {\n",
       "        text-align: right;\n",
       "    }\n",
       "</style>\n",
       "<table border=\"1\" class=\"dataframe\">\n",
       "  <thead>\n",
       "    <tr style=\"text-align: right;\">\n",
       "      <th></th>\n",
       "      <th>position</th>\n",
       "      <th>count</th>\n",
       "    </tr>\n",
       "  </thead>\n",
       "  <tbody>\n",
       "    <tr>\n",
       "      <th>0</th>\n",
       "      <td>CEO</td>\n",
       "      <td>76</td>\n",
       "    </tr>\n",
       "    <tr>\n",
       "      <th>1</th>\n",
       "      <td>MBA Candidate</td>\n",
       "      <td>64</td>\n",
       "    </tr>\n",
       "    <tr>\n",
       "      <th>2</th>\n",
       "      <td>Founder</td>\n",
       "      <td>45</td>\n",
       "    </tr>\n",
       "    <tr>\n",
       "      <th>3</th>\n",
       "      <td>Board Member</td>\n",
       "      <td>25</td>\n",
       "    </tr>\n",
       "    <tr>\n",
       "      <th>4</th>\n",
       "      <td>Director</td>\n",
       "      <td>20</td>\n",
       "    </tr>\n",
       "    <tr>\n",
       "      <th>5</th>\n",
       "      <td>Partner</td>\n",
       "      <td>15</td>\n",
       "    </tr>\n",
       "    <tr>\n",
       "      <th>6</th>\n",
       "      <td>Product Manager</td>\n",
       "      <td>14</td>\n",
       "    </tr>\n",
       "    <tr>\n",
       "      <th>7</th>\n",
       "      <td>Associate</td>\n",
       "      <td>13</td>\n",
       "    </tr>\n",
       "    <tr>\n",
       "      <th>8</th>\n",
       "      <td>Managing Director</td>\n",
       "      <td>13</td>\n",
       "    </tr>\n",
       "    <tr>\n",
       "      <th>9</th>\n",
       "      <td>Managing Partner</td>\n",
       "      <td>12</td>\n",
       "    </tr>\n",
       "  </tbody>\n",
       "</table>\n",
       "</div>"
      ],
      "text/plain": [
       "            position  count\n",
       "0                CEO     76\n",
       "1      MBA Candidate     64\n",
       "2            Founder     45\n",
       "3       Board Member     25\n",
       "4           Director     20\n",
       "5            Partner     15\n",
       "6    Product Manager     14\n",
       "7          Associate     13\n",
       "8  Managing Director     13\n",
       "9   Managing Partner     12"
      ]
     },
     "execution_count": 64,
     "metadata": {},
     "output_type": "execute_result"
    }
   ],
   "source": [
    "df_users = pd.concat([df['user'], df['connected_on']], ignore_index=True).value_counts().reset_index()\n",
    "df_users.columns = ['user', 'count']\n",
    "df_users = df_users.sort_values(by=\"count\", ascending=False)\n",
    "df_position.head(10)"
   ]
  },
  {
   "cell_type": "markdown",
   "id": "1ce5fbc8",
   "metadata": {},
   "source": [
    "## Creating the network"
   ]
  },
  {
   "cell_type": "code",
   "execution_count": 55,
   "id": "9b5e935d",
   "metadata": {},
   "outputs": [
    {
     "name": "stdout",
     "output_type": "stream",
     "text": [
      "(1918, 2)\n",
      "(47, 2)\n"
     ]
    }
   ],
   "source": [
    "print(df_company.shape)\n",
    "df_company_reduced = df_company.loc[df_company['count']>=5]\n",
    "print(df_company_reduced.shape)"
   ]
  },
  {
   "cell_type": "code",
   "execution_count": 56,
   "id": "a3827d80",
   "metadata": {},
   "outputs": [
    {
     "name": "stdout",
     "output_type": "stream",
     "text": [
      "(2117, 1)\n",
      "(34, 1)\n"
     ]
    }
   ],
   "source": [
    "print(df_users.shape)\n",
    "df_users_reduced=df_users.loc[df_users['count']>=5]\n",
    "print(df_users_reduced.shape)"
   ]
  },
  {
   "cell_type": "code",
   "execution_count": 57,
   "id": "44652a4b",
   "metadata": {},
   "outputs": [
    {
     "name": "stdout",
     "output_type": "stream",
     "text": [
      "(2326, 2)\n",
      "(42, 2)\n"
     ]
    }
   ],
   "source": [
    "print(df_position.shape)\n",
    "df_position_reduced = df_position.loc[df_position['count']>=5]\n",
    "print(df_position_reduced.shape)"
   ]
  },
  {
   "cell_type": "code",
   "execution_count": 63,
   "id": "93a59ca1",
   "metadata": {},
   "outputs": [
    {
     "name": "stdout",
     "output_type": "stream",
     "text": [
      "(1918, 2)\n",
      "(47, 2)\n",
      "(1313, 2)\n",
      "(158, 2)\n",
      "(2326, 2)\n",
      "(42, 2)\n"
     ]
    },
    {
     "ename": "AssertionError",
     "evalue": "",
     "output_type": "error",
     "traceback": [
      "\u001b[1;31m---------------------------------------------------------------------------\u001b[0m",
      "\u001b[1;31mAssertionError\u001b[0m                            Traceback (most recent call last)",
      "\u001b[1;32mC:\\Users\\HIJRIA~1\\AppData\\Local\\Temp/ipykernel_29400/3720154913.py\u001b[0m in \u001b[0;36m<module>\u001b[1;34m\u001b[0m\n\u001b[0;32m     50\u001b[0m \u001b[1;31m# generate the graph\u001b[0m\u001b[1;33m\u001b[0m\u001b[1;33m\u001b[0m\u001b[0m\n\u001b[0;32m     51\u001b[0m \u001b[0mnt\u001b[0m \u001b[1;33m=\u001b[0m \u001b[0mNetwork\u001b[0m\u001b[1;33m(\u001b[0m\u001b[0mheight\u001b[0m\u001b[1;33m=\u001b[0m\u001b[1;34m'700px'\u001b[0m\u001b[1;33m,\u001b[0m \u001b[0mwidth\u001b[0m\u001b[1;33m=\u001b[0m\u001b[1;34m'700px'\u001b[0m\u001b[1;33m,\u001b[0m \u001b[0mbgcolor\u001b[0m\u001b[1;33m=\u001b[0m\u001b[1;34m\"white\"\u001b[0m\u001b[1;33m,\u001b[0m \u001b[0mfont_color\u001b[0m\u001b[1;33m=\u001b[0m\u001b[1;34m'black'\u001b[0m\u001b[1;33m)\u001b[0m\u001b[1;33m\u001b[0m\u001b[1;33m\u001b[0m\u001b[0m\n\u001b[1;32m---> 52\u001b[1;33m \u001b[0mnt\u001b[0m\u001b[1;33m.\u001b[0m\u001b[0mfrom_nx\u001b[0m\u001b[1;33m(\u001b[0m\u001b[0mg\u001b[0m\u001b[1;33m)\u001b[0m\u001b[1;33m\u001b[0m\u001b[1;33m\u001b[0m\u001b[0m\n\u001b[0m\u001b[0;32m     53\u001b[0m \u001b[0mnt\u001b[0m\u001b[1;33m.\u001b[0m\u001b[0mhrepulsion\u001b[0m\u001b[1;33m(\u001b[0m\u001b[1;33m)\u001b[0m\u001b[1;33m\u001b[0m\u001b[1;33m\u001b[0m\u001b[0m\n\u001b[0;32m     54\u001b[0m \u001b[0mnt\u001b[0m\u001b[1;33m.\u001b[0m\u001b[0mshow\u001b[0m\u001b[1;33m(\u001b[0m\u001b[1;34m'user_graph.html'\u001b[0m\u001b[1;33m)\u001b[0m\u001b[1;33m\u001b[0m\u001b[1;33m\u001b[0m\u001b[0m\n",
      "\u001b[1;32m~\\anaconda3\\lib\\site-packages\\pyvis\\network.py\u001b[0m in \u001b[0;36mfrom_nx\u001b[1;34m(self, nx_graph, node_size_transf, edge_weight_transf, default_node_size, default_edge_weight, show_edge_weights, edge_scaling)\u001b[0m\n\u001b[0;32m    720\u001b[0m             \u001b[1;32mif\u001b[0m \u001b[1;34m'size'\u001b[0m \u001b[1;32mnot\u001b[0m \u001b[1;32min\u001b[0m \u001b[0mnodes\u001b[0m\u001b[1;33m[\u001b[0m\u001b[0mnode\u001b[0m\u001b[1;33m]\u001b[0m\u001b[1;33m.\u001b[0m\u001b[0mkeys\u001b[0m\u001b[1;33m(\u001b[0m\u001b[1;33m)\u001b[0m\u001b[1;33m:\u001b[0m\u001b[1;33m\u001b[0m\u001b[1;33m\u001b[0m\u001b[0m\n\u001b[0;32m    721\u001b[0m                 \u001b[0mnodes\u001b[0m\u001b[1;33m[\u001b[0m\u001b[0mnode\u001b[0m\u001b[1;33m]\u001b[0m\u001b[1;33m[\u001b[0m\u001b[1;34m'size'\u001b[0m\u001b[1;33m]\u001b[0m \u001b[1;33m=\u001b[0m \u001b[0mdefault_node_size\u001b[0m\u001b[1;33m\u001b[0m\u001b[1;33m\u001b[0m\u001b[0m\n\u001b[1;32m--> 722\u001b[1;33m             \u001b[0mself\u001b[0m\u001b[1;33m.\u001b[0m\u001b[0madd_node\u001b[0m\u001b[1;33m(\u001b[0m\u001b[0mnode\u001b[0m\u001b[1;33m,\u001b[0m \u001b[1;33m**\u001b[0m\u001b[0mnodes\u001b[0m\u001b[1;33m[\u001b[0m\u001b[0mnode\u001b[0m\u001b[1;33m]\u001b[0m\u001b[1;33m)\u001b[0m\u001b[1;33m\u001b[0m\u001b[1;33m\u001b[0m\u001b[0m\n\u001b[0m\u001b[0;32m    723\u001b[0m \u001b[1;33m\u001b[0m\u001b[0m\n\u001b[0;32m    724\u001b[0m     \u001b[1;32mdef\u001b[0m \u001b[0mget_nodes\u001b[0m\u001b[1;33m(\u001b[0m\u001b[0mself\u001b[0m\u001b[1;33m)\u001b[0m\u001b[1;33m:\u001b[0m\u001b[1;33m\u001b[0m\u001b[1;33m\u001b[0m\u001b[0m\n",
      "\u001b[1;32m~\\anaconda3\\lib\\site-packages\\pyvis\\network.py\u001b[0m in \u001b[0;36madd_node\u001b[1;34m(self, n_id, label, shape, color, **options)\u001b[0m\n\u001b[0;32m    231\u001b[0m         \u001b[1;33m:\u001b[0m\u001b[0mtype\u001b[0m \u001b[0my\u001b[0m\u001b[1;33m:\u001b[0m \u001b[0mnum\u001b[0m \u001b[1;33m(\u001b[0m\u001b[0moptional\u001b[0m\u001b[1;33m)\u001b[0m\u001b[1;33m\u001b[0m\u001b[1;33m\u001b[0m\u001b[0m\n\u001b[0;32m    232\u001b[0m         \"\"\"\n\u001b[1;32m--> 233\u001b[1;33m         \u001b[1;32massert\u001b[0m \u001b[0misinstance\u001b[0m\u001b[1;33m(\u001b[0m\u001b[0mn_id\u001b[0m\u001b[1;33m,\u001b[0m \u001b[0mstr\u001b[0m\u001b[1;33m)\u001b[0m \u001b[1;32mor\u001b[0m \u001b[0misinstance\u001b[0m\u001b[1;33m(\u001b[0m\u001b[0mn_id\u001b[0m\u001b[1;33m,\u001b[0m \u001b[0mint\u001b[0m\u001b[1;33m)\u001b[0m\u001b[1;33m\u001b[0m\u001b[1;33m\u001b[0m\u001b[0m\n\u001b[0m\u001b[0;32m    234\u001b[0m         \u001b[1;32mif\u001b[0m \u001b[0mlabel\u001b[0m\u001b[1;33m:\u001b[0m\u001b[1;33m\u001b[0m\u001b[1;33m\u001b[0m\u001b[0m\n\u001b[0;32m    235\u001b[0m             \u001b[0mnode_label\u001b[0m \u001b[1;33m=\u001b[0m \u001b[0mlabel\u001b[0m\u001b[1;33m\u001b[0m\u001b[1;33m\u001b[0m\u001b[0m\n",
      "\u001b[1;31mAssertionError\u001b[0m: "
     ]
    }
   ],
   "source": [
    "import networkx as nx\n",
    "import pandas as pd\n",
    "import numpy as np\n",
    "import networkx as nx\n",
    "import matplotlib.pyplot as plt\n",
    "from pyvis.network import Network\n",
    "\n",
    "df_company = df['company'].value_counts().reset_index()\n",
    "df_company.columns = ['company','count']\n",
    "df_company = df_company.sort_values(by=\"count\", ascending=False)\n",
    "\n",
    "df_position = df['position'].value_counts().reset_index()\n",
    "df_position.columns = ['position', 'count']\n",
    "df_position = df_position.sort_values(by=\"count\", ascending=False)\n",
    "\n",
    "df_users = pd.concat([df['user'], df['connected_on']], ignore_index=True).value_counts().reset_index()\n",
    "df_users.columns = ['user', 'count']\n",
    "df_users = df_users.sort_values(by=\"count\", ascending=False)\n",
    "\n",
    "#creating a network\n",
    "print(df_company.shape)\n",
    "df_company_reduced = df_company.loc[df_company['count']>=5]\n",
    "print(df_company_reduced.shape)\n",
    "\n",
    "print(df_users.shape)\n",
    "df_users_reduced=df_users.loc[df_users['count']>=5]\n",
    "print(df_users_reduced.shape)\n",
    "\n",
    "print(df_position.shape)\n",
    "df_position_reduced = df_position.loc[df_position['count']>=5]\n",
    "print(df_position_reduced.shape)\n",
    "\n",
    "# initialize graph\n",
    "g = nx.Graph()\n",
    "\n",
    "# use iterrows to iterate through the data frame\n",
    "for _, row in df_users_reduced.iterrows():\n",
    "\n",
    "  # store user name and count\n",
    "  user = row['user']\n",
    "  count = row['count']\n",
    "\n",
    "  g.add_node(user, size=count*2, color='#9370db')\n",
    "\n",
    "  # connect user to all the companies they've worked at\n",
    "  for company in df[df['user'] == user]['company']:\n",
    "    if company in df_company_reduced['company'].values:\n",
    "      g.add_edge(user, company, color='grey')\n",
    "\n",
    "# generate the graph\n",
    "nt = Network(height='700px', width='700px', bgcolor=\"white\", font_color='black')\n",
    "nt.from_nx(g)\n",
    "nt.hrepulsion()\n",
    "nt.show('user_graph.html')\n"
   ]
  },
  {
   "cell_type": "code",
   "execution_count": null,
   "id": "0938548f",
   "metadata": {},
   "outputs": [],
   "source": []
  }
 ],
 "metadata": {
  "kernelspec": {
   "display_name": "Python 3 (ipykernel)",
   "language": "python",
   "name": "python3"
  },
  "language_info": {
   "codemirror_mode": {
    "name": "ipython",
    "version": 3
   },
   "file_extension": ".py",
   "mimetype": "text/x-python",
   "name": "python",
   "nbconvert_exporter": "python",
   "pygments_lexer": "ipython3",
   "version": "3.9.7"
  }
 },
 "nbformat": 4,
 "nbformat_minor": 5
}
